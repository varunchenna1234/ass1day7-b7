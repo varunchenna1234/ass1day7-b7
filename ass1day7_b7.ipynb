{
  "nbformat": 4,
  "nbformat_minor": 0,
  "metadata": {
    "colab": {
      "name": "ass1day7-b7.ipynb",
      "provenance": [],
      "authorship_tag": "ABX9TyOBdP0DQ5tDYGFaiJP3zG9U",
      "include_colab_link": true
    },
    "kernelspec": {
      "name": "python3",
      "display_name": "Python 3"
    }
  },
  "cells": [
    {
      "cell_type": "markdown",
      "metadata": {
        "id": "view-in-github",
        "colab_type": "text"
      },
      "source": [
        "<a href=\"https://colab.research.google.com/github/varunchenna1234/ass1day7-b7/blob/master/ass1day7_b7.ipynb\" target=\"_parent\"><img src=\"https://colab.research.google.com/assets/colab-badge.svg\" alt=\"Open In Colab\"/></a>"
      ]
    },
    {
      "cell_type": "code",
      "metadata": {
        "id": "6h34uTQwx9wQ",
        "colab_type": "code",
        "colab": {
          "base_uri": "https://localhost:8080/",
          "height": 34
        },
        "outputId": "a645dddb-5136-4b6c-a30c-3712263c4140"
      },
      "source": [
        "try:\n",
        "    file=open(\"/abc.txt\",'r')\n",
        "    file.write(\"Hello\")\n",
        "except :\n",
        "    print(\"It is only read mode u can not write\")\n",
        "\n"
      ],
      "execution_count": 31,
      "outputs": [
        {
          "output_type": "stream",
          "text": [
            "It is only read mode u can not write\n"
          ],
          "name": "stdout"
        }
      ]
    }
  ]
}